{
 "metadata": {
  "language_info": {
   "codemirror_mode": {
    "name": "ipython",
    "version": 3
   },
   "file_extension": ".py",
   "mimetype": "text/x-python",
   "name": "python",
   "nbconvert_exporter": "python",
   "pygments_lexer": "ipython3",
   "version": "3.8.3-final"
  },
  "orig_nbformat": 2,
  "kernelspec": {
   "name": "python3",
   "display_name": "Python 3",
   "language": "python"
  }
 },
 "nbformat": 4,
 "nbformat_minor": 2,
 "cells": [
  {
   "source": [
    "## DADOS CASOS E MORTES COVID"
   ],
   "cell_type": "markdown",
   "metadata": {}
  },
  {
   "cell_type": "code",
   "execution_count": 125,
   "metadata": {},
   "outputs": [],
   "source": [
    "import os \n",
    "import pandas as pd \n",
    "import matplotlib.pyplot as plt\n",
    "import seaborn as sns"
   ]
  },
  {
   "cell_type": "code",
   "execution_count": 126,
   "metadata": {},
   "outputs": [],
   "source": [
    "dados = 'HIST_PAINEL_COVIDBR_20jan2021.csv'"
   ]
  },
  {
   "cell_type": "code",
   "execution_count": 127,
   "metadata": {},
   "outputs": [],
   "source": [
    "covidBR = pd.read_csv(dados, sep=';')"
   ]
  },
  {
   "cell_type": "code",
   "execution_count": 128,
   "metadata": {},
   "outputs": [],
   "source": [
    "covidBR = covidBR.drop(columns=[\"coduf\", \"codmun\", \"codRegiaoSaude\", \"Recuperadosnovos\", \"emAcompanhamentoNovos\"]).dropna()"
   ]
  },
  {
   "cell_type": "code",
   "execution_count": 129,
   "metadata": {},
   "outputs": [
    {
     "output_type": "execute_result",
     "data": {
      "text/plain": [
       "               regiao estado              municipio   nomeRegiaoSaude  \\\n",
       "9570            Norte     RO  Alta Floresta D'Oeste      ZONA DA MATA   \n",
       "9571            Norte     RO  Alta Floresta D'Oeste      ZONA DA MATA   \n",
       "9572            Norte     RO  Alta Floresta D'Oeste      ZONA DA MATA   \n",
       "9573            Norte     RO  Alta Floresta D'Oeste      ZONA DA MATA   \n",
       "9574            Norte     RO  Alta Floresta D'Oeste      ZONA DA MATA   \n",
       "...               ...    ...                    ...               ...   \n",
       "1686565  Centro-Oeste     DF               Brasília  DISTRITO FEDERAL   \n",
       "1686566  Centro-Oeste     DF               Brasília  DISTRITO FEDERAL   \n",
       "1686567  Centro-Oeste     DF               Brasília  DISTRITO FEDERAL   \n",
       "1686568  Centro-Oeste     DF               Brasília  DISTRITO FEDERAL   \n",
       "1686569  Centro-Oeste     DF               Brasília  DISTRITO FEDERAL   \n",
       "\n",
       "               data  semanaEpi  populacaoTCU2019  casosAcumulado  casosNovos  \\\n",
       "9570     2020-03-27         13           22945.0               0           0   \n",
       "9571     2020-03-28         13           22945.0               0           0   \n",
       "9572     2020-03-29         14           22945.0               0           0   \n",
       "9573     2020-03-30         14           22945.0               0           0   \n",
       "9574     2020-03-31         14           22945.0               0           0   \n",
       "...             ...        ...               ...             ...         ...   \n",
       "1686565  2021-01-16          2         3015268.0          263756         828   \n",
       "1686566  2021-01-17          3         3015268.0          264227         471   \n",
       "1686567  2021-01-18          3         3015268.0          265274        1047   \n",
       "1686568  2021-01-19          3         3015268.0          265886         612   \n",
       "1686569  2021-01-20          3         3015268.0          266506         620   \n",
       "\n",
       "         obitosAcumulado  obitosNovos  interior/metropolitana  \n",
       "9570                   0            0                     0.0  \n",
       "9571                   0            0                     0.0  \n",
       "9572                   0            0                     0.0  \n",
       "9573                   0            0                     0.0  \n",
       "9574                   0            0                     0.0  \n",
       "...                  ...          ...                     ...  \n",
       "1686565             4412            6                     1.0  \n",
       "1686566             4421            9                     1.0  \n",
       "1686567             4427            6                     1.0  \n",
       "1686568             4436            9                     1.0  \n",
       "1686569             4442            6                     1.0  \n",
       "\n",
       "[1671000 rows x 12 columns]"
      ],
      "text/html": "<div>\n<style scoped>\n    .dataframe tbody tr th:only-of-type {\n        vertical-align: middle;\n    }\n\n    .dataframe tbody tr th {\n        vertical-align: top;\n    }\n\n    .dataframe thead th {\n        text-align: right;\n    }\n</style>\n<table border=\"1\" class=\"dataframe\">\n  <thead>\n    <tr style=\"text-align: right;\">\n      <th></th>\n      <th>regiao</th>\n      <th>estado</th>\n      <th>municipio</th>\n      <th>nomeRegiaoSaude</th>\n      <th>data</th>\n      <th>semanaEpi</th>\n      <th>populacaoTCU2019</th>\n      <th>casosAcumulado</th>\n      <th>casosNovos</th>\n      <th>obitosAcumulado</th>\n      <th>obitosNovos</th>\n      <th>interior/metropolitana</th>\n    </tr>\n  </thead>\n  <tbody>\n    <tr>\n      <th>9570</th>\n      <td>Norte</td>\n      <td>RO</td>\n      <td>Alta Floresta D'Oeste</td>\n      <td>ZONA DA MATA</td>\n      <td>2020-03-27</td>\n      <td>13</td>\n      <td>22945.0</td>\n      <td>0</td>\n      <td>0</td>\n      <td>0</td>\n      <td>0</td>\n      <td>0.0</td>\n    </tr>\n    <tr>\n      <th>9571</th>\n      <td>Norte</td>\n      <td>RO</td>\n      <td>Alta Floresta D'Oeste</td>\n      <td>ZONA DA MATA</td>\n      <td>2020-03-28</td>\n      <td>13</td>\n      <td>22945.0</td>\n      <td>0</td>\n      <td>0</td>\n      <td>0</td>\n      <td>0</td>\n      <td>0.0</td>\n    </tr>\n    <tr>\n      <th>9572</th>\n      <td>Norte</td>\n      <td>RO</td>\n      <td>Alta Floresta D'Oeste</td>\n      <td>ZONA DA MATA</td>\n      <td>2020-03-29</td>\n      <td>14</td>\n      <td>22945.0</td>\n      <td>0</td>\n      <td>0</td>\n      <td>0</td>\n      <td>0</td>\n      <td>0.0</td>\n    </tr>\n    <tr>\n      <th>9573</th>\n      <td>Norte</td>\n      <td>RO</td>\n      <td>Alta Floresta D'Oeste</td>\n      <td>ZONA DA MATA</td>\n      <td>2020-03-30</td>\n      <td>14</td>\n      <td>22945.0</td>\n      <td>0</td>\n      <td>0</td>\n      <td>0</td>\n      <td>0</td>\n      <td>0.0</td>\n    </tr>\n    <tr>\n      <th>9574</th>\n      <td>Norte</td>\n      <td>RO</td>\n      <td>Alta Floresta D'Oeste</td>\n      <td>ZONA DA MATA</td>\n      <td>2020-03-31</td>\n      <td>14</td>\n      <td>22945.0</td>\n      <td>0</td>\n      <td>0</td>\n      <td>0</td>\n      <td>0</td>\n      <td>0.0</td>\n    </tr>\n    <tr>\n      <th>...</th>\n      <td>...</td>\n      <td>...</td>\n      <td>...</td>\n      <td>...</td>\n      <td>...</td>\n      <td>...</td>\n      <td>...</td>\n      <td>...</td>\n      <td>...</td>\n      <td>...</td>\n      <td>...</td>\n      <td>...</td>\n    </tr>\n    <tr>\n      <th>1686565</th>\n      <td>Centro-Oeste</td>\n      <td>DF</td>\n      <td>Brasília</td>\n      <td>DISTRITO FEDERAL</td>\n      <td>2021-01-16</td>\n      <td>2</td>\n      <td>3015268.0</td>\n      <td>263756</td>\n      <td>828</td>\n      <td>4412</td>\n      <td>6</td>\n      <td>1.0</td>\n    </tr>\n    <tr>\n      <th>1686566</th>\n      <td>Centro-Oeste</td>\n      <td>DF</td>\n      <td>Brasília</td>\n      <td>DISTRITO FEDERAL</td>\n      <td>2021-01-17</td>\n      <td>3</td>\n      <td>3015268.0</td>\n      <td>264227</td>\n      <td>471</td>\n      <td>4421</td>\n      <td>9</td>\n      <td>1.0</td>\n    </tr>\n    <tr>\n      <th>1686567</th>\n      <td>Centro-Oeste</td>\n      <td>DF</td>\n      <td>Brasília</td>\n      <td>DISTRITO FEDERAL</td>\n      <td>2021-01-18</td>\n      <td>3</td>\n      <td>3015268.0</td>\n      <td>265274</td>\n      <td>1047</td>\n      <td>4427</td>\n      <td>6</td>\n      <td>1.0</td>\n    </tr>\n    <tr>\n      <th>1686568</th>\n      <td>Centro-Oeste</td>\n      <td>DF</td>\n      <td>Brasília</td>\n      <td>DISTRITO FEDERAL</td>\n      <td>2021-01-19</td>\n      <td>3</td>\n      <td>3015268.0</td>\n      <td>265886</td>\n      <td>612</td>\n      <td>4436</td>\n      <td>9</td>\n      <td>1.0</td>\n    </tr>\n    <tr>\n      <th>1686569</th>\n      <td>Centro-Oeste</td>\n      <td>DF</td>\n      <td>Brasília</td>\n      <td>DISTRITO FEDERAL</td>\n      <td>2021-01-20</td>\n      <td>3</td>\n      <td>3015268.0</td>\n      <td>266506</td>\n      <td>620</td>\n      <td>4442</td>\n      <td>6</td>\n      <td>1.0</td>\n    </tr>\n  </tbody>\n</table>\n<p>1671000 rows × 12 columns</p>\n</div>"
     },
     "metadata": {},
     "execution_count": 129
    }
   ],
   "source": [
    "covidBR"
   ]
  },
  {
   "cell_type": "code",
   "execution_count": 130,
   "metadata": {},
   "outputs": [
    {
     "output_type": "stream",
     "name": "stdout",
     "text": [
      "<class 'pandas.core.frame.DataFrame'>\nInt64Index: 1671000 entries, 9570 to 1686569\nData columns (total 12 columns):\n #   Column                  Non-Null Count    Dtype  \n---  ------                  --------------    -----  \n 0   regiao                  1671000 non-null  object \n 1   estado                  1671000 non-null  object \n 2   municipio               1671000 non-null  object \n 3   nomeRegiaoSaude         1671000 non-null  object \n 4   data                    1671000 non-null  object \n 5   semanaEpi               1671000 non-null  int64  \n 6   populacaoTCU2019        1671000 non-null  float64\n 7   casosAcumulado          1671000 non-null  int64  \n 8   casosNovos              1671000 non-null  int64  \n 9   obitosAcumulado         1671000 non-null  int64  \n 10  obitosNovos             1671000 non-null  int64  \n 11  interior/metropolitana  1671000 non-null  float64\ndtypes: float64(2), int64(5), object(5)\nmemory usage: 165.7+ MB\n"
     ]
    }
   ],
   "source": [
    "covidBR.info()"
   ]
  },
  {
   "cell_type": "code",
   "execution_count": 131,
   "metadata": {},
   "outputs": [],
   "source": [
    "covidBR[\"data\"] = pd.to_datetime(covidBR[\"data\"])\n",
    "covidBR[\"populacaoTCU2019\"] = covidBR[\"populacaoTCU2019\"].astype(\"int\")\n",
    "covidBR[\"interior/metropolitana\"] = covidBR[\"interior/metropolitana\"].replace([0, 1], [\"interior\", \"metropolitana\"])"
   ]
  },
  {
   "cell_type": "code",
   "execution_count": 132,
   "metadata": {},
   "outputs": [
    {
     "output_type": "stream",
     "name": "stdout",
     "text": [
      "<class 'pandas.core.frame.DataFrame'>\nInt64Index: 1671000 entries, 9570 to 1686569\nData columns (total 12 columns):\n #   Column                  Non-Null Count    Dtype         \n---  ------                  --------------    -----         \n 0   regiao                  1671000 non-null  object        \n 1   estado                  1671000 non-null  object        \n 2   municipio               1671000 non-null  object        \n 3   nomeRegiaoSaude         1671000 non-null  object        \n 4   data                    1671000 non-null  datetime64[ns]\n 5   semanaEpi               1671000 non-null  int64         \n 6   populacaoTCU2019        1671000 non-null  int64         \n 7   casosAcumulado          1671000 non-null  int64         \n 8   casosNovos              1671000 non-null  int64         \n 9   obitosAcumulado         1671000 non-null  int64         \n 10  obitosNovos             1671000 non-null  int64         \n 11  interior/metropolitana  1671000 non-null  object        \ndtypes: datetime64[ns](1), int64(6), object(5)\nmemory usage: 165.7+ MB\n"
     ]
    }
   ],
   "source": [
    "covidBR.info()"
   ]
  },
  {
   "cell_type": "code",
   "execution_count": 133,
   "metadata": {},
   "outputs": [
    {
     "output_type": "execute_result",
     "data": {
      "text/plain": [
       "               regiao estado              municipio   nomeRegiaoSaude  \\\n",
       "9570            Norte     RO  Alta Floresta D'Oeste      ZONA DA MATA   \n",
       "9571            Norte     RO  Alta Floresta D'Oeste      ZONA DA MATA   \n",
       "9572            Norte     RO  Alta Floresta D'Oeste      ZONA DA MATA   \n",
       "9573            Norte     RO  Alta Floresta D'Oeste      ZONA DA MATA   \n",
       "9574            Norte     RO  Alta Floresta D'Oeste      ZONA DA MATA   \n",
       "...               ...    ...                    ...               ...   \n",
       "1686565  Centro-Oeste     DF               Brasília  DISTRITO FEDERAL   \n",
       "1686566  Centro-Oeste     DF               Brasília  DISTRITO FEDERAL   \n",
       "1686567  Centro-Oeste     DF               Brasília  DISTRITO FEDERAL   \n",
       "1686568  Centro-Oeste     DF               Brasília  DISTRITO FEDERAL   \n",
       "1686569  Centro-Oeste     DF               Brasília  DISTRITO FEDERAL   \n",
       "\n",
       "              data  semanaEpi  populacaoTCU2019  casosAcumulado  casosNovos  \\\n",
       "9570    2020-03-27         13             22945               0           0   \n",
       "9571    2020-03-28         13             22945               0           0   \n",
       "9572    2020-03-29         14             22945               0           0   \n",
       "9573    2020-03-30         14             22945               0           0   \n",
       "9574    2020-03-31         14             22945               0           0   \n",
       "...            ...        ...               ...             ...         ...   \n",
       "1686565 2021-01-16          2           3015268          263756         828   \n",
       "1686566 2021-01-17          3           3015268          264227         471   \n",
       "1686567 2021-01-18          3           3015268          265274        1047   \n",
       "1686568 2021-01-19          3           3015268          265886         612   \n",
       "1686569 2021-01-20          3           3015268          266506         620   \n",
       "\n",
       "         obitosAcumulado  obitosNovos interior/metropolitana  \n",
       "9570                   0            0               interior  \n",
       "9571                   0            0               interior  \n",
       "9572                   0            0               interior  \n",
       "9573                   0            0               interior  \n",
       "9574                   0            0               interior  \n",
       "...                  ...          ...                    ...  \n",
       "1686565             4412            6          metropolitana  \n",
       "1686566             4421            9          metropolitana  \n",
       "1686567             4427            6          metropolitana  \n",
       "1686568             4436            9          metropolitana  \n",
       "1686569             4442            6          metropolitana  \n",
       "\n",
       "[1671000 rows x 12 columns]"
      ],
      "text/html": "<div>\n<style scoped>\n    .dataframe tbody tr th:only-of-type {\n        vertical-align: middle;\n    }\n\n    .dataframe tbody tr th {\n        vertical-align: top;\n    }\n\n    .dataframe thead th {\n        text-align: right;\n    }\n</style>\n<table border=\"1\" class=\"dataframe\">\n  <thead>\n    <tr style=\"text-align: right;\">\n      <th></th>\n      <th>regiao</th>\n      <th>estado</th>\n      <th>municipio</th>\n      <th>nomeRegiaoSaude</th>\n      <th>data</th>\n      <th>semanaEpi</th>\n      <th>populacaoTCU2019</th>\n      <th>casosAcumulado</th>\n      <th>casosNovos</th>\n      <th>obitosAcumulado</th>\n      <th>obitosNovos</th>\n      <th>interior/metropolitana</th>\n    </tr>\n  </thead>\n  <tbody>\n    <tr>\n      <th>9570</th>\n      <td>Norte</td>\n      <td>RO</td>\n      <td>Alta Floresta D'Oeste</td>\n      <td>ZONA DA MATA</td>\n      <td>2020-03-27</td>\n      <td>13</td>\n      <td>22945</td>\n      <td>0</td>\n      <td>0</td>\n      <td>0</td>\n      <td>0</td>\n      <td>interior</td>\n    </tr>\n    <tr>\n      <th>9571</th>\n      <td>Norte</td>\n      <td>RO</td>\n      <td>Alta Floresta D'Oeste</td>\n      <td>ZONA DA MATA</td>\n      <td>2020-03-28</td>\n      <td>13</td>\n      <td>22945</td>\n      <td>0</td>\n      <td>0</td>\n      <td>0</td>\n      <td>0</td>\n      <td>interior</td>\n    </tr>\n    <tr>\n      <th>9572</th>\n      <td>Norte</td>\n      <td>RO</td>\n      <td>Alta Floresta D'Oeste</td>\n      <td>ZONA DA MATA</td>\n      <td>2020-03-29</td>\n      <td>14</td>\n      <td>22945</td>\n      <td>0</td>\n      <td>0</td>\n      <td>0</td>\n      <td>0</td>\n      <td>interior</td>\n    </tr>\n    <tr>\n      <th>9573</th>\n      <td>Norte</td>\n      <td>RO</td>\n      <td>Alta Floresta D'Oeste</td>\n      <td>ZONA DA MATA</td>\n      <td>2020-03-30</td>\n      <td>14</td>\n      <td>22945</td>\n      <td>0</td>\n      <td>0</td>\n      <td>0</td>\n      <td>0</td>\n      <td>interior</td>\n    </tr>\n    <tr>\n      <th>9574</th>\n      <td>Norte</td>\n      <td>RO</td>\n      <td>Alta Floresta D'Oeste</td>\n      <td>ZONA DA MATA</td>\n      <td>2020-03-31</td>\n      <td>14</td>\n      <td>22945</td>\n      <td>0</td>\n      <td>0</td>\n      <td>0</td>\n      <td>0</td>\n      <td>interior</td>\n    </tr>\n    <tr>\n      <th>...</th>\n      <td>...</td>\n      <td>...</td>\n      <td>...</td>\n      <td>...</td>\n      <td>...</td>\n      <td>...</td>\n      <td>...</td>\n      <td>...</td>\n      <td>...</td>\n      <td>...</td>\n      <td>...</td>\n      <td>...</td>\n    </tr>\n    <tr>\n      <th>1686565</th>\n      <td>Centro-Oeste</td>\n      <td>DF</td>\n      <td>Brasília</td>\n      <td>DISTRITO FEDERAL</td>\n      <td>2021-01-16</td>\n      <td>2</td>\n      <td>3015268</td>\n      <td>263756</td>\n      <td>828</td>\n      <td>4412</td>\n      <td>6</td>\n      <td>metropolitana</td>\n    </tr>\n    <tr>\n      <th>1686566</th>\n      <td>Centro-Oeste</td>\n      <td>DF</td>\n      <td>Brasília</td>\n      <td>DISTRITO FEDERAL</td>\n      <td>2021-01-17</td>\n      <td>3</td>\n      <td>3015268</td>\n      <td>264227</td>\n      <td>471</td>\n      <td>4421</td>\n      <td>9</td>\n      <td>metropolitana</td>\n    </tr>\n    <tr>\n      <th>1686567</th>\n      <td>Centro-Oeste</td>\n      <td>DF</td>\n      <td>Brasília</td>\n      <td>DISTRITO FEDERAL</td>\n      <td>2021-01-18</td>\n      <td>3</td>\n      <td>3015268</td>\n      <td>265274</td>\n      <td>1047</td>\n      <td>4427</td>\n      <td>6</td>\n      <td>metropolitana</td>\n    </tr>\n    <tr>\n      <th>1686568</th>\n      <td>Centro-Oeste</td>\n      <td>DF</td>\n      <td>Brasília</td>\n      <td>DISTRITO FEDERAL</td>\n      <td>2021-01-19</td>\n      <td>3</td>\n      <td>3015268</td>\n      <td>265886</td>\n      <td>612</td>\n      <td>4436</td>\n      <td>9</td>\n      <td>metropolitana</td>\n    </tr>\n    <tr>\n      <th>1686569</th>\n      <td>Centro-Oeste</td>\n      <td>DF</td>\n      <td>Brasília</td>\n      <td>DISTRITO FEDERAL</td>\n      <td>2021-01-20</td>\n      <td>3</td>\n      <td>3015268</td>\n      <td>266506</td>\n      <td>620</td>\n      <td>4442</td>\n      <td>6</td>\n      <td>metropolitana</td>\n    </tr>\n  </tbody>\n</table>\n<p>1671000 rows × 12 columns</p>\n</div>"
     },
     "metadata": {},
     "execution_count": 133
    }
   ],
   "source": [
    "covidBR"
   ]
  },
  {
   "source": [
    "***"
   ],
   "cell_type": "markdown",
   "metadata": {}
  },
  {
   "source": [
    "## DADOS REMEDIOS COVID"
   ],
   "cell_type": "markdown",
   "metadata": {}
  },
  {
   "cell_type": "code",
   "execution_count": 138,
   "metadata": {},
   "outputs": [
    {
     "output_type": "execute_result",
     "data": {
      "text/plain": [
       "['HIST_PAINEL_COVIDBR_20jan2021.csv',\n",
       " '.DS_Store',\n",
       " 'DistribuicaoCloroquinaOseltamivir.csv',\n",
       " '.localized',\n",
       " 'covidBR.ipynb']"
      ]
     },
     "metadata": {},
     "execution_count": 138
    }
   ],
   "source": [
    "os.listdir()"
   ]
  },
  {
   "cell_type": "code",
   "execution_count": 141,
   "metadata": {},
   "outputs": [],
   "source": [
    "dados2 = 'DistribuicaoCloroquinaOseltamivir.csv'"
   ]
  },
  {
   "cell_type": "code",
   "execution_count": 142,
   "metadata": {},
   "outputs": [],
   "source": [
    "remedios = pd.read_csv(dados2, sep=';')"
   ]
  },
  {
   "cell_type": "code",
   "execution_count": 143,
   "metadata": {},
   "outputs": [
    {
     "output_type": "execute_result",
     "data": {
      "text/plain": [
       "       REGIÃO             UF    DESTINATARIO            LOCALIDADE  \\\n",
       "0       NORTE           ACRE  SAÚDE INDÍGENA  DSEI ALTO RIO JURUÁ    \n",
       "1       NORTE           ACRE             SES                  ACRE   \n",
       "2       NORTE           ACRE  SAÚDE INDÍGENA   DSEI ALTO RIO PURUS   \n",
       "3       NORTE           ACRE             SES                  ACRE   \n",
       "4       NORTE           ACRE             SES                  ACRE   \n",
       "..        ...            ...             ...                   ...   \n",
       "867   SUDESTE  MINAS GERAIS              SMS        BELO HORIZONTE   \n",
       "868     NORTE           PARÁ             SMS                BELÉM    \n",
       "869      SUL          PARANÁ             SMS              CURITIBA   \n",
       "870  NORDESTE          PIAUÍ             SMS              TERESINA   \n",
       "871   SUDESTE     SÃO PAULO              SMS            SÃO PAULO    \n",
       "\n",
       "                              ITEM PROGRAMA DE SAÚDE  QUANTIDADE  \\\n",
       "0    DIFOSFATO DE CLOROQUINA 150MG           MALÁRIA         1.5   \n",
       "1    DIFOSFATO DE CLOROQUINA 150MG           MALÁRIA        60.0   \n",
       "2    DIFOSFATO DE CLOROQUINA 150MG           MALÁRIA         5.0   \n",
       "3    DIFOSFATO DE CLOROQUINA 150MG           MALÁRIA        57.5   \n",
       "4    DIFOSFATO DE CLOROQUINA 150MG           MALÁRIA        27.0   \n",
       "..                             ...               ...         ...   \n",
       "867    FOSFATO DE OSELTAMIVIR 30MG         INFLUENZA         5.0   \n",
       "868    FOSFATO DE OSELTAMIVIR 30MG         INFLUENZA         2.0   \n",
       "869    FOSFATO DE OSELTAMIVIR 75MG         INFLUENZA        50.0   \n",
       "870    FOSFATO DE OSELTAMIVIR 30MG         INFLUENZA         1.0   \n",
       "871    FOSFATO DE OSELTAMIVIR 30MG         INFLUENZA         5.0   \n",
       "\n",
       "    DATA DE SOLICITAÇÃO              STATUS DATA DE ENTREGA  \n",
       "0                   NaN   ENTREGA REALIZADA      20/04/2020  \n",
       "1                   NaN   ENTREGA REALIZADA      03/04/2020  \n",
       "2                   NaN   ENTREGA REALIZADA      06/04/2020  \n",
       "3            02/06/2020   ENTREGA REALIZADA      15/06/2020  \n",
       "4            03/06/2020   ENTREGA REALIZADA      15/06/2020  \n",
       "..                  ...                 ...             ...  \n",
       "867                 NaN  ENTREGA REALIZADA       04/11/2020  \n",
       "868                 NaN  ENTREGA REALIZADA       05/11/2020  \n",
       "869                 NaN  ENTREGA REALIZADA       03/11/2020  \n",
       "870                 NaN  ENTREGA REALIZADA       29/10/2020  \n",
       "871                 NaN  ENTREGA REALIZADA       29/10/2020  \n",
       "\n",
       "[872 rows x 10 columns]"
      ],
      "text/html": "<div>\n<style scoped>\n    .dataframe tbody tr th:only-of-type {\n        vertical-align: middle;\n    }\n\n    .dataframe tbody tr th {\n        vertical-align: top;\n    }\n\n    .dataframe thead th {\n        text-align: right;\n    }\n</style>\n<table border=\"1\" class=\"dataframe\">\n  <thead>\n    <tr style=\"text-align: right;\">\n      <th></th>\n      <th>REGIÃO</th>\n      <th>UF</th>\n      <th>DESTINATARIO</th>\n      <th>LOCALIDADE</th>\n      <th>ITEM</th>\n      <th>PROGRAMA DE SAÚDE</th>\n      <th>QUANTIDADE</th>\n      <th>DATA DE SOLICITAÇÃO</th>\n      <th>STATUS</th>\n      <th>DATA DE ENTREGA</th>\n    </tr>\n  </thead>\n  <tbody>\n    <tr>\n      <th>0</th>\n      <td>NORTE</td>\n      <td>ACRE</td>\n      <td>SAÚDE INDÍGENA</td>\n      <td>DSEI ALTO RIO JURUÁ</td>\n      <td>DIFOSFATO DE CLOROQUINA 150MG</td>\n      <td>MALÁRIA</td>\n      <td>1.5</td>\n      <td>NaN</td>\n      <td>ENTREGA REALIZADA</td>\n      <td>20/04/2020</td>\n    </tr>\n    <tr>\n      <th>1</th>\n      <td>NORTE</td>\n      <td>ACRE</td>\n      <td>SES</td>\n      <td>ACRE</td>\n      <td>DIFOSFATO DE CLOROQUINA 150MG</td>\n      <td>MALÁRIA</td>\n      <td>60.0</td>\n      <td>NaN</td>\n      <td>ENTREGA REALIZADA</td>\n      <td>03/04/2020</td>\n    </tr>\n    <tr>\n      <th>2</th>\n      <td>NORTE</td>\n      <td>ACRE</td>\n      <td>SAÚDE INDÍGENA</td>\n      <td>DSEI ALTO RIO PURUS</td>\n      <td>DIFOSFATO DE CLOROQUINA 150MG</td>\n      <td>MALÁRIA</td>\n      <td>5.0</td>\n      <td>NaN</td>\n      <td>ENTREGA REALIZADA</td>\n      <td>06/04/2020</td>\n    </tr>\n    <tr>\n      <th>3</th>\n      <td>NORTE</td>\n      <td>ACRE</td>\n      <td>SES</td>\n      <td>ACRE</td>\n      <td>DIFOSFATO DE CLOROQUINA 150MG</td>\n      <td>MALÁRIA</td>\n      <td>57.5</td>\n      <td>02/06/2020</td>\n      <td>ENTREGA REALIZADA</td>\n      <td>15/06/2020</td>\n    </tr>\n    <tr>\n      <th>4</th>\n      <td>NORTE</td>\n      <td>ACRE</td>\n      <td>SES</td>\n      <td>ACRE</td>\n      <td>DIFOSFATO DE CLOROQUINA 150MG</td>\n      <td>MALÁRIA</td>\n      <td>27.0</td>\n      <td>03/06/2020</td>\n      <td>ENTREGA REALIZADA</td>\n      <td>15/06/2020</td>\n    </tr>\n    <tr>\n      <th>...</th>\n      <td>...</td>\n      <td>...</td>\n      <td>...</td>\n      <td>...</td>\n      <td>...</td>\n      <td>...</td>\n      <td>...</td>\n      <td>...</td>\n      <td>...</td>\n      <td>...</td>\n    </tr>\n    <tr>\n      <th>867</th>\n      <td>SUDESTE</td>\n      <td>MINAS GERAIS</td>\n      <td>SMS</td>\n      <td>BELO HORIZONTE</td>\n      <td>FOSFATO DE OSELTAMIVIR 30MG</td>\n      <td>INFLUENZA</td>\n      <td>5.0</td>\n      <td>NaN</td>\n      <td>ENTREGA REALIZADA</td>\n      <td>04/11/2020</td>\n    </tr>\n    <tr>\n      <th>868</th>\n      <td>NORTE</td>\n      <td>PARÁ</td>\n      <td>SMS</td>\n      <td>BELÉM</td>\n      <td>FOSFATO DE OSELTAMIVIR 30MG</td>\n      <td>INFLUENZA</td>\n      <td>2.0</td>\n      <td>NaN</td>\n      <td>ENTREGA REALIZADA</td>\n      <td>05/11/2020</td>\n    </tr>\n    <tr>\n      <th>869</th>\n      <td>SUL</td>\n      <td>PARANÁ</td>\n      <td>SMS</td>\n      <td>CURITIBA</td>\n      <td>FOSFATO DE OSELTAMIVIR 75MG</td>\n      <td>INFLUENZA</td>\n      <td>50.0</td>\n      <td>NaN</td>\n      <td>ENTREGA REALIZADA</td>\n      <td>03/11/2020</td>\n    </tr>\n    <tr>\n      <th>870</th>\n      <td>NORDESTE</td>\n      <td>PIAUÍ</td>\n      <td>SMS</td>\n      <td>TERESINA</td>\n      <td>FOSFATO DE OSELTAMIVIR 30MG</td>\n      <td>INFLUENZA</td>\n      <td>1.0</td>\n      <td>NaN</td>\n      <td>ENTREGA REALIZADA</td>\n      <td>29/10/2020</td>\n    </tr>\n    <tr>\n      <th>871</th>\n      <td>SUDESTE</td>\n      <td>SÃO PAULO</td>\n      <td>SMS</td>\n      <td>SÃO PAULO</td>\n      <td>FOSFATO DE OSELTAMIVIR 30MG</td>\n      <td>INFLUENZA</td>\n      <td>5.0</td>\n      <td>NaN</td>\n      <td>ENTREGA REALIZADA</td>\n      <td>29/10/2020</td>\n    </tr>\n  </tbody>\n</table>\n<p>872 rows × 10 columns</p>\n</div>"
     },
     "metadata": {},
     "execution_count": 143
    }
   ],
   "source": [
    "remedios"
   ]
  },
  {
   "cell_type": "code",
   "execution_count": 144,
   "metadata": {},
   "outputs": [
    {
     "output_type": "stream",
     "name": "stdout",
     "text": [
      "<class 'pandas.core.frame.DataFrame'>\nRangeIndex: 872 entries, 0 to 871\nData columns (total 10 columns):\n #   Column               Non-Null Count  Dtype  \n---  ------               --------------  -----  \n 0   REGIÃO               872 non-null    object \n 1   UF                   872 non-null    object \n 2   DESTINATARIO         872 non-null    object \n 3   LOCALIDADE           872 non-null    object \n 4   ITEM                 872 non-null    object \n 5   PROGRAMA DE SAÚDE    872 non-null    object \n 6   QUANTIDADE           871 non-null    float64\n 7   DATA DE SOLICITAÇÃO  47 non-null     object \n 8   STATUS               872 non-null    object \n 9   DATA DE ENTREGA      865 non-null    object \ndtypes: float64(1), object(9)\nmemory usage: 68.2+ KB\n"
     ]
    }
   ],
   "source": [
    "remedios.info()"
   ]
  },
  {
   "cell_type": "code",
   "execution_count": null,
   "metadata": {},
   "outputs": [],
   "source": []
  }
 ]
}