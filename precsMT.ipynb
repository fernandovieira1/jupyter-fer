{
 "metadata": {
  "language_info": {
   "codemirror_mode": {
    "name": "ipython",
    "version": 3
   },
   "file_extension": ".py",
   "mimetype": "text/x-python",
   "name": "python",
   "nbconvert_exporter": "python",
   "pygments_lexer": "ipython3",
   "version": "3.8.5-final"
  },
  "orig_nbformat": 2,
  "kernelspec": {
   "name": "python3",
   "display_name": "Python 3.8.5 64-bit",
   "metadata": {
    "interpreter": {
     "hash": "916dbcbb3f70747c44a77c7bcd40155683ae19c65e1c03b4aa3499c5328201f1"
    }
   }
  }
 },
 "nbformat": 4,
 "nbformat_minor": 2,
 "cells": [
  {
   "cell_type": "code",
   "execution_count": 1,
   "metadata": {},
   "outputs": [],
   "source": [
    "import os\n",
    "import pandas as pd\n",
    "import numpy  as np"
   ]
  },
  {
   "cell_type": "code",
   "execution_count": 8,
   "metadata": {},
   "outputs": [],
   "source": [
    "precsMT = pd.read_excel(\"PrecsMT_mar-2021.xlsx\", sheet_name=\"PREC\")"
   ]
  },
  {
   "cell_type": "code",
   "execution_count": 9,
   "metadata": {},
   "outputs": [
    {
     "output_type": "execute_result",
     "data": {
      "text/plain": [
       "     Unnamed: 0                 Unnamed: 1     Unnamed: 2  \\\n",
       "0           NaN                        NaN            NaN   \n",
       "1           NaN                        NaN            NaN   \n",
       "2             n                  Protocolo         Cidade   \n",
       "3             1  0070607-36.2015.8.11.0000        Cáceres   \n",
       "4             2  0002668-05.2016.8.11.0000        Cáceres   \n",
       "...         ...                        ...            ...   \n",
       "1710       1708  1003876-31.2021.8.11.0000  Várzea Grande   \n",
       "1711       1709  1003878-98.2021.8.11.0000  Várzea Grande   \n",
       "1712       1710  1003880-68.2021.8.11.0000  Várzea Grande   \n",
       "1713       1711  1003881-53.2021.8.11.0000  Várzea Grande   \n",
       "1714       1712  1003882-38.2021.8.11.0000  Várzea Grande   \n",
       "\n",
       "                                   Unnamed: 3            Unnamed: 4  \\\n",
       "0                                         NaN                   NaN   \n",
       "1                                         NaN                   NaN   \n",
       "2                                  Requerente              Situação   \n",
       "3     IMPERIAL TUR VIAGENS E TURISMO LTDA- ME  Aguardando Pagamento   \n",
       "4                             LUCILEI GIANINI  Aguardando Pagamento   \n",
       "...                                       ...                   ...   \n",
       "1710                          UDIMAR FERREIRA               Autuado   \n",
       "1711            LUCIANA RAMOS PEREIRA BARRETO               Autuado   \n",
       "1712                 JOSEFINA PONCE DE CAMPOS               Autuado   \n",
       "1713           MARINALVA LEOCADIA DE CARVALHO               Autuado   \n",
       "1714                    JOSE ANTONIO DA COSTA               Autuado   \n",
       "\n",
       "     Unnamed: 5         Unnamed: 6           Unnamed: 7  Unnamed: 8  \n",
       "0           NaN                NaN                  NaN         NaN  \n",
       "1           NaN                NaN                  NaN         NaN  \n",
       "2      Natureza  Data Apresentação  Exercício de pagto.  Valor (R$)  \n",
       "3         Comum         01/06/2015                 2016  2758538.47  \n",
       "4     Alimentar         13/01/2016                 2017   165131.21  \n",
       "...         ...                ...                  ...         ...  \n",
       "1710      Comum         09/03/2021                 2022           0  \n",
       "1711      Comum         09/03/2021                 2022           0  \n",
       "1712      Comum         09/03/2021                 2022           0  \n",
       "1713      Comum         09/03/2021                 2022           0  \n",
       "1714      Comum         09/03/2021                 2022           0  \n",
       "\n",
       "[1715 rows x 9 columns]"
      ],
      "text/html": "<div>\n<style scoped>\n    .dataframe tbody tr th:only-of-type {\n        vertical-align: middle;\n    }\n\n    .dataframe tbody tr th {\n        vertical-align: top;\n    }\n\n    .dataframe thead th {\n        text-align: right;\n    }\n</style>\n<table border=\"1\" class=\"dataframe\">\n  <thead>\n    <tr style=\"text-align: right;\">\n      <th></th>\n      <th>Unnamed: 0</th>\n      <th>Unnamed: 1</th>\n      <th>Unnamed: 2</th>\n      <th>Unnamed: 3</th>\n      <th>Unnamed: 4</th>\n      <th>Unnamed: 5</th>\n      <th>Unnamed: 6</th>\n      <th>Unnamed: 7</th>\n      <th>Unnamed: 8</th>\n    </tr>\n  </thead>\n  <tbody>\n    <tr>\n      <th>0</th>\n      <td>NaN</td>\n      <td>NaN</td>\n      <td>NaN</td>\n      <td>NaN</td>\n      <td>NaN</td>\n      <td>NaN</td>\n      <td>NaN</td>\n      <td>NaN</td>\n      <td>NaN</td>\n    </tr>\n    <tr>\n      <th>1</th>\n      <td>NaN</td>\n      <td>NaN</td>\n      <td>NaN</td>\n      <td>NaN</td>\n      <td>NaN</td>\n      <td>NaN</td>\n      <td>NaN</td>\n      <td>NaN</td>\n      <td>NaN</td>\n    </tr>\n    <tr>\n      <th>2</th>\n      <td>n</td>\n      <td>Protocolo</td>\n      <td>Cidade</td>\n      <td>Requerente</td>\n      <td>Situação</td>\n      <td>Natureza</td>\n      <td>Data Apresentação</td>\n      <td>Exercício de pagto.</td>\n      <td>Valor (R$)</td>\n    </tr>\n    <tr>\n      <th>3</th>\n      <td>1</td>\n      <td>0070607-36.2015.8.11.0000</td>\n      <td>Cáceres</td>\n      <td>IMPERIAL TUR VIAGENS E TURISMO LTDA- ME</td>\n      <td>Aguardando Pagamento</td>\n      <td>Comum</td>\n      <td>01/06/2015</td>\n      <td>2016</td>\n      <td>2758538.47</td>\n    </tr>\n    <tr>\n      <th>4</th>\n      <td>2</td>\n      <td>0002668-05.2016.8.11.0000</td>\n      <td>Cáceres</td>\n      <td>LUCILEI GIANINI</td>\n      <td>Aguardando Pagamento</td>\n      <td>Alimentar</td>\n      <td>13/01/2016</td>\n      <td>2017</td>\n      <td>165131.21</td>\n    </tr>\n    <tr>\n      <th>...</th>\n      <td>...</td>\n      <td>...</td>\n      <td>...</td>\n      <td>...</td>\n      <td>...</td>\n      <td>...</td>\n      <td>...</td>\n      <td>...</td>\n      <td>...</td>\n    </tr>\n    <tr>\n      <th>1710</th>\n      <td>1708</td>\n      <td>1003876-31.2021.8.11.0000</td>\n      <td>Várzea Grande</td>\n      <td>UDIMAR FERREIRA</td>\n      <td>Autuado</td>\n      <td>Comum</td>\n      <td>09/03/2021</td>\n      <td>2022</td>\n      <td>0</td>\n    </tr>\n    <tr>\n      <th>1711</th>\n      <td>1709</td>\n      <td>1003878-98.2021.8.11.0000</td>\n      <td>Várzea Grande</td>\n      <td>LUCIANA RAMOS PEREIRA BARRETO</td>\n      <td>Autuado</td>\n      <td>Comum</td>\n      <td>09/03/2021</td>\n      <td>2022</td>\n      <td>0</td>\n    </tr>\n    <tr>\n      <th>1712</th>\n      <td>1710</td>\n      <td>1003880-68.2021.8.11.0000</td>\n      <td>Várzea Grande</td>\n      <td>JOSEFINA PONCE DE CAMPOS</td>\n      <td>Autuado</td>\n      <td>Comum</td>\n      <td>09/03/2021</td>\n      <td>2022</td>\n      <td>0</td>\n    </tr>\n    <tr>\n      <th>1713</th>\n      <td>1711</td>\n      <td>1003881-53.2021.8.11.0000</td>\n      <td>Várzea Grande</td>\n      <td>MARINALVA LEOCADIA DE CARVALHO</td>\n      <td>Autuado</td>\n      <td>Comum</td>\n      <td>09/03/2021</td>\n      <td>2022</td>\n      <td>0</td>\n    </tr>\n    <tr>\n      <th>1714</th>\n      <td>1712</td>\n      <td>1003882-38.2021.8.11.0000</td>\n      <td>Várzea Grande</td>\n      <td>JOSE ANTONIO DA COSTA</td>\n      <td>Autuado</td>\n      <td>Comum</td>\n      <td>09/03/2021</td>\n      <td>2022</td>\n      <td>0</td>\n    </tr>\n  </tbody>\n</table>\n<p>1715 rows × 9 columns</p>\n</div>"
     },
     "metadata": {},
     "execution_count": 9
    }
   ],
   "source": [
    "precsMT"
   ]
  },
  {
   "cell_type": "code",
   "execution_count": null,
   "metadata": {},
   "outputs": [],
   "source": []
  }
 ]
}