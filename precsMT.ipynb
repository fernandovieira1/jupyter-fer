{
 "metadata": {
  "language_info": {
   "codemirror_mode": {
    "name": "ipython",
    "version": 3
   },
   "file_extension": ".py",
   "mimetype": "text/x-python",
   "name": "python",
   "nbconvert_exporter": "python",
   "pygments_lexer": "ipython3",
   "version": "3.8.5-final"
  },
  "orig_nbformat": 2,
  "kernelspec": {
   "name": "python3",
   "display_name": "Python 3.8.5 64-bit",
   "metadata": {
    "interpreter": {
     "hash": "916dbcbb3f70747c44a77c7bcd40155683ae19c65e1c03b4aa3499c5328201f1"
    }
   }
  }
 },
 "nbformat": 4,
 "nbformat_minor": 2,
 "cells": [
  {
   "cell_type": "code",
   "execution_count": 1,
   "metadata": {},
   "outputs": [],
   "source": [
    "import os\n",
    "import pandas as pd\n",
    "import numpy  as np"
   ]
  },
  {
   "cell_type": "code",
   "execution_count": 22,
   "metadata": {},
   "outputs": [],
   "source": [
    "precsMT = pd.read_excel('PrecsMT_mar-2021.xlsx', sheet_name='PREC', skiprows=3)"
   ]
  },
  {
   "cell_type": "code",
   "execution_count": 23,
   "metadata": {},
   "outputs": [],
   "source": [
    "renPrec = ['n', 'protocolo', 'cidade', 'requerente', 'situacao', 'natureza',\n",
    "       'dataApresentacao', 'exercPagto', 'valor']"
   ]
  },
  {
   "cell_type": "code",
   "execution_count": 24,
   "metadata": {},
   "outputs": [],
   "source": [
    "precsMT.columns = renPrec"
   ]
  },
  {
   "cell_type": "code",
   "execution_count": 25,
   "metadata": {},
   "outputs": [
    {
     "output_type": "execute_result",
     "data": {
      "text/plain": [
       "         n                  protocolo         cidade  \\\n",
       "0        1  0070607-36.2015.8.11.0000        Cáceres   \n",
       "1        2  0002668-05.2016.8.11.0000        Cáceres   \n",
       "2        3  0002723-53.2016.8.11.0000        Cáceres   \n",
       "3        4  0003511-67.2016.8.11.0000        Cáceres   \n",
       "4        5  0003515-07.2016.8.11.0000        Cáceres   \n",
       "...    ...                        ...            ...   \n",
       "1707  1708  1003876-31.2021.8.11.0000  Várzea Grande   \n",
       "1708  1709  1003878-98.2021.8.11.0000  Várzea Grande   \n",
       "1709  1710  1003880-68.2021.8.11.0000  Várzea Grande   \n",
       "1710  1711  1003881-53.2021.8.11.0000  Várzea Grande   \n",
       "1711  1712  1003882-38.2021.8.11.0000  Várzea Grande   \n",
       "\n",
       "                                   requerente              situacao  \\\n",
       "0     IMPERIAL TUR VIAGENS E TURISMO LTDA- ME  Aguardando Pagamento   \n",
       "1                             LUCILEI GIANINI  Aguardando Pagamento   \n",
       "2                       FÁBIO GUSTAVO PEREIRA  Aguardando Pagamento   \n",
       "3                      JOÃO NEPOMUCENO MENDES  Aguardando Pagamento   \n",
       "4              NEUZA MARIA DE ARRUDA PINHEIRO  Aguardando Pagamento   \n",
       "...                                       ...                   ...   \n",
       "1707                          UDIMAR FERREIRA               Autuado   \n",
       "1708            LUCIANA RAMOS PEREIRA BARRETO               Autuado   \n",
       "1709                 JOSEFINA PONCE DE CAMPOS               Autuado   \n",
       "1710           MARINALVA LEOCADIA DE CARVALHO               Autuado   \n",
       "1711                    JOSE ANTONIO DA COSTA               Autuado   \n",
       "\n",
       "       natureza dataApresentacao  exercPagto       valor  \n",
       "0         Comum       01/06/2015        2016  2758538.47  \n",
       "1     Alimentar       13/01/2016        2017   165131.21  \n",
       "2     Alimentar       13/01/2016        2017    65981.84  \n",
       "3     Alimentar       15/01/2016        2017   132676.92  \n",
       "4     Alimentar       15/01/2016        2017    74709.07  \n",
       "...         ...              ...         ...         ...  \n",
       "1707      Comum       09/03/2021        2022        0.00  \n",
       "1708      Comum       09/03/2021        2022        0.00  \n",
       "1709      Comum       09/03/2021        2022        0.00  \n",
       "1710      Comum       09/03/2021        2022        0.00  \n",
       "1711      Comum       09/03/2021        2022        0.00  \n",
       "\n",
       "[1712 rows x 9 columns]"
      ],
      "text/html": "<div>\n<style scoped>\n    .dataframe tbody tr th:only-of-type {\n        vertical-align: middle;\n    }\n\n    .dataframe tbody tr th {\n        vertical-align: top;\n    }\n\n    .dataframe thead th {\n        text-align: right;\n    }\n</style>\n<table border=\"1\" class=\"dataframe\">\n  <thead>\n    <tr style=\"text-align: right;\">\n      <th></th>\n      <th>n</th>\n      <th>protocolo</th>\n      <th>cidade</th>\n      <th>requerente</th>\n      <th>situacao</th>\n      <th>natureza</th>\n      <th>dataApresentacao</th>\n      <th>exercPagto</th>\n      <th>valor</th>\n    </tr>\n  </thead>\n  <tbody>\n    <tr>\n      <th>0</th>\n      <td>1</td>\n      <td>0070607-36.2015.8.11.0000</td>\n      <td>Cáceres</td>\n      <td>IMPERIAL TUR VIAGENS E TURISMO LTDA- ME</td>\n      <td>Aguardando Pagamento</td>\n      <td>Comum</td>\n      <td>01/06/2015</td>\n      <td>2016</td>\n      <td>2758538.47</td>\n    </tr>\n    <tr>\n      <th>1</th>\n      <td>2</td>\n      <td>0002668-05.2016.8.11.0000</td>\n      <td>Cáceres</td>\n      <td>LUCILEI GIANINI</td>\n      <td>Aguardando Pagamento</td>\n      <td>Alimentar</td>\n      <td>13/01/2016</td>\n      <td>2017</td>\n      <td>165131.21</td>\n    </tr>\n    <tr>\n      <th>2</th>\n      <td>3</td>\n      <td>0002723-53.2016.8.11.0000</td>\n      <td>Cáceres</td>\n      <td>FÁBIO GUSTAVO PEREIRA</td>\n      <td>Aguardando Pagamento</td>\n      <td>Alimentar</td>\n      <td>13/01/2016</td>\n      <td>2017</td>\n      <td>65981.84</td>\n    </tr>\n    <tr>\n      <th>3</th>\n      <td>4</td>\n      <td>0003511-67.2016.8.11.0000</td>\n      <td>Cáceres</td>\n      <td>JOÃO NEPOMUCENO MENDES</td>\n      <td>Aguardando Pagamento</td>\n      <td>Alimentar</td>\n      <td>15/01/2016</td>\n      <td>2017</td>\n      <td>132676.92</td>\n    </tr>\n    <tr>\n      <th>4</th>\n      <td>5</td>\n      <td>0003515-07.2016.8.11.0000</td>\n      <td>Cáceres</td>\n      <td>NEUZA MARIA DE ARRUDA PINHEIRO</td>\n      <td>Aguardando Pagamento</td>\n      <td>Alimentar</td>\n      <td>15/01/2016</td>\n      <td>2017</td>\n      <td>74709.07</td>\n    </tr>\n    <tr>\n      <th>...</th>\n      <td>...</td>\n      <td>...</td>\n      <td>...</td>\n      <td>...</td>\n      <td>...</td>\n      <td>...</td>\n      <td>...</td>\n      <td>...</td>\n      <td>...</td>\n    </tr>\n    <tr>\n      <th>1707</th>\n      <td>1708</td>\n      <td>1003876-31.2021.8.11.0000</td>\n      <td>Várzea Grande</td>\n      <td>UDIMAR FERREIRA</td>\n      <td>Autuado</td>\n      <td>Comum</td>\n      <td>09/03/2021</td>\n      <td>2022</td>\n      <td>0.00</td>\n    </tr>\n    <tr>\n      <th>1708</th>\n      <td>1709</td>\n      <td>1003878-98.2021.8.11.0000</td>\n      <td>Várzea Grande</td>\n      <td>LUCIANA RAMOS PEREIRA BARRETO</td>\n      <td>Autuado</td>\n      <td>Comum</td>\n      <td>09/03/2021</td>\n      <td>2022</td>\n      <td>0.00</td>\n    </tr>\n    <tr>\n      <th>1709</th>\n      <td>1710</td>\n      <td>1003880-68.2021.8.11.0000</td>\n      <td>Várzea Grande</td>\n      <td>JOSEFINA PONCE DE CAMPOS</td>\n      <td>Autuado</td>\n      <td>Comum</td>\n      <td>09/03/2021</td>\n      <td>2022</td>\n      <td>0.00</td>\n    </tr>\n    <tr>\n      <th>1710</th>\n      <td>1711</td>\n      <td>1003881-53.2021.8.11.0000</td>\n      <td>Várzea Grande</td>\n      <td>MARINALVA LEOCADIA DE CARVALHO</td>\n      <td>Autuado</td>\n      <td>Comum</td>\n      <td>09/03/2021</td>\n      <td>2022</td>\n      <td>0.00</td>\n    </tr>\n    <tr>\n      <th>1711</th>\n      <td>1712</td>\n      <td>1003882-38.2021.8.11.0000</td>\n      <td>Várzea Grande</td>\n      <td>JOSE ANTONIO DA COSTA</td>\n      <td>Autuado</td>\n      <td>Comum</td>\n      <td>09/03/2021</td>\n      <td>2022</td>\n      <td>0.00</td>\n    </tr>\n  </tbody>\n</table>\n<p>1712 rows × 9 columns</p>\n</div>"
     },
     "metadata": {},
     "execution_count": 25
    }
   ],
   "source": [
    "precsMT"
   ]
  },
  {
   "cell_type": "code",
   "execution_count": 51,
   "metadata": {},
   "outputs": [
    {
     "output_type": "stream",
     "name": "stdout",
     "text": [
      " Total (R$): 655,261,166.52\n Processos (Qtde): 1712 \n Potencial (R$): 512,572.8 (fator 60%)\n"
     ]
    }
   ],
   "source": [
    "print(\" Total (R$):\", f\"{precsMT.loc[:, 'valor'].sum().round(2):,}\\n\", \"Processos (Qtde):\",  len(precsMT), \"\\n Potencial (R$):\", f\"{(len(precsMT)*499*0.6):,} (fator 60%)\")"
   ]
  },
  {
   "cell_type": "code",
   "execution_count": null,
   "metadata": {},
   "outputs": [],
   "source": []
  }
 ]
}