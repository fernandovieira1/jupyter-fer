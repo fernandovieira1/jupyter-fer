{
 "metadata": {
  "language_info": {
   "codemirror_mode": {
    "name": "ipython",
    "version": 3
   },
   "file_extension": ".py",
   "mimetype": "text/x-python",
   "name": "python",
   "nbconvert_exporter": "python",
   "pygments_lexer": "ipython3",
   "version": "3.8.5-final"
  },
  "orig_nbformat": 2,
  "kernelspec": {
   "name": "python3",
   "display_name": "Python 3.8.5 64-bit",
   "metadata": {
    "interpreter": {
     "hash": "916dbcbb3f70747c44a77c7bcd40155683ae19c65e1c03b4aa3499c5328201f1"
    }
   }
  }
 },
 "nbformat": 4,
 "nbformat_minor": 2,
 "cells": [
  {
   "cell_type": "code",
   "execution_count": 1,
   "metadata": {},
   "outputs": [],
   "source": [
    "import os\n",
    "import pandas as pd\n",
    "import numpy  as np"
   ]
  },
  {
   "cell_type": "code",
   "execution_count": 2,
   "metadata": {},
   "outputs": [],
   "source": [
    "precsMT = pd.read_excel('PrecsMT_mar-2021.xlsx', sheet_name='PREC', skiprows=3)"
   ]
  },
  {
   "cell_type": "code",
   "execution_count": 3,
   "metadata": {},
   "outputs": [],
   "source": [
    "renPrec = ['n', 'protocolo', 'cidade', 'requerente', 'situacao', 'natureza',\n",
    "       'dataApresentacao', 'exercPagto', 'valor']"
   ]
  },
  {
   "cell_type": "code",
   "execution_count": 4,
   "metadata": {},
   "outputs": [],
   "source": [
    "precsMT.columns = renPrec"
   ]
  },
  {
   "cell_type": "code",
   "execution_count": 5,
   "metadata": {},
   "outputs": [
    {
     "output_type": "execute_result",
     "data": {
      "text/plain": [
       "         n                  protocolo         cidade  \\\n",
       "0        1  0070607-36.2015.8.11.0000        Cáceres   \n",
       "1        2  0002668-05.2016.8.11.0000        Cáceres   \n",
       "2        3  0002723-53.2016.8.11.0000        Cáceres   \n",
       "3        4  0003511-67.2016.8.11.0000        Cáceres   \n",
       "4        5  0003515-07.2016.8.11.0000        Cáceres   \n",
       "...    ...                        ...            ...   \n",
       "1707  1708  1003876-31.2021.8.11.0000  Várzea Grande   \n",
       "1708  1709  1003878-98.2021.8.11.0000  Várzea Grande   \n",
       "1709  1710  1003880-68.2021.8.11.0000  Várzea Grande   \n",
       "1710  1711  1003881-53.2021.8.11.0000  Várzea Grande   \n",
       "1711  1712  1003882-38.2021.8.11.0000  Várzea Grande   \n",
       "\n",
       "                                   requerente              situacao  \\\n",
       "0     IMPERIAL TUR VIAGENS E TURISMO LTDA- ME  Aguardando Pagamento   \n",
       "1                             LUCILEI GIANINI  Aguardando Pagamento   \n",
       "2                       FÁBIO GUSTAVO PEREIRA  Aguardando Pagamento   \n",
       "3                      JOÃO NEPOMUCENO MENDES  Aguardando Pagamento   \n",
       "4              NEUZA MARIA DE ARRUDA PINHEIRO  Aguardando Pagamento   \n",
       "...                                       ...                   ...   \n",
       "1707                          UDIMAR FERREIRA               Autuado   \n",
       "1708            LUCIANA RAMOS PEREIRA BARRETO               Autuado   \n",
       "1709                 JOSEFINA PONCE DE CAMPOS               Autuado   \n",
       "1710           MARINALVA LEOCADIA DE CARVALHO               Autuado   \n",
       "1711                    JOSE ANTONIO DA COSTA               Autuado   \n",
       "\n",
       "       natureza dataApresentacao  exercPagto       valor  \n",
       "0         Comum       01/06/2015        2016  2758538.47  \n",
       "1     Alimentar       13/01/2016        2017   165131.21  \n",
       "2     Alimentar       13/01/2016        2017    65981.84  \n",
       "3     Alimentar       15/01/2016        2017   132676.92  \n",
       "4     Alimentar       15/01/2016        2017    74709.07  \n",
       "...         ...              ...         ...         ...  \n",
       "1707      Comum       09/03/2021        2022        0.00  \n",
       "1708      Comum       09/03/2021        2022        0.00  \n",
       "1709      Comum       09/03/2021        2022        0.00  \n",
       "1710      Comum       09/03/2021        2022        0.00  \n",
       "1711      Comum       09/03/2021        2022        0.00  \n",
       "\n",
       "[1712 rows x 9 columns]"
      ],
      "text/html": "<div>\n<style scoped>\n    .dataframe tbody tr th:only-of-type {\n        vertical-align: middle;\n    }\n\n    .dataframe tbody tr th {\n        vertical-align: top;\n    }\n\n    .dataframe thead th {\n        text-align: right;\n    }\n</style>\n<table border=\"1\" class=\"dataframe\">\n  <thead>\n    <tr style=\"text-align: right;\">\n      <th></th>\n      <th>n</th>\n      <th>protocolo</th>\n      <th>cidade</th>\n      <th>requerente</th>\n      <th>situacao</th>\n      <th>natureza</th>\n      <th>dataApresentacao</th>\n      <th>exercPagto</th>\n      <th>valor</th>\n    </tr>\n  </thead>\n  <tbody>\n    <tr>\n      <th>0</th>\n      <td>1</td>\n      <td>0070607-36.2015.8.11.0000</td>\n      <td>Cáceres</td>\n      <td>IMPERIAL TUR VIAGENS E TURISMO LTDA- ME</td>\n      <td>Aguardando Pagamento</td>\n      <td>Comum</td>\n      <td>01/06/2015</td>\n      <td>2016</td>\n      <td>2758538.47</td>\n    </tr>\n    <tr>\n      <th>1</th>\n      <td>2</td>\n      <td>0002668-05.2016.8.11.0000</td>\n      <td>Cáceres</td>\n      <td>LUCILEI GIANINI</td>\n      <td>Aguardando Pagamento</td>\n      <td>Alimentar</td>\n      <td>13/01/2016</td>\n      <td>2017</td>\n      <td>165131.21</td>\n    </tr>\n    <tr>\n      <th>2</th>\n      <td>3</td>\n      <td>0002723-53.2016.8.11.0000</td>\n      <td>Cáceres</td>\n      <td>FÁBIO GUSTAVO PEREIRA</td>\n      <td>Aguardando Pagamento</td>\n      <td>Alimentar</td>\n      <td>13/01/2016</td>\n      <td>2017</td>\n      <td>65981.84</td>\n    </tr>\n    <tr>\n      <th>3</th>\n      <td>4</td>\n      <td>0003511-67.2016.8.11.0000</td>\n      <td>Cáceres</td>\n      <td>JOÃO NEPOMUCENO MENDES</td>\n      <td>Aguardando Pagamento</td>\n      <td>Alimentar</td>\n      <td>15/01/2016</td>\n      <td>2017</td>\n      <td>132676.92</td>\n    </tr>\n    <tr>\n      <th>4</th>\n      <td>5</td>\n      <td>0003515-07.2016.8.11.0000</td>\n      <td>Cáceres</td>\n      <td>NEUZA MARIA DE ARRUDA PINHEIRO</td>\n      <td>Aguardando Pagamento</td>\n      <td>Alimentar</td>\n      <td>15/01/2016</td>\n      <td>2017</td>\n      <td>74709.07</td>\n    </tr>\n    <tr>\n      <th>...</th>\n      <td>...</td>\n      <td>...</td>\n      <td>...</td>\n      <td>...</td>\n      <td>...</td>\n      <td>...</td>\n      <td>...</td>\n      <td>...</td>\n      <td>...</td>\n    </tr>\n    <tr>\n      <th>1707</th>\n      <td>1708</td>\n      <td>1003876-31.2021.8.11.0000</td>\n      <td>Várzea Grande</td>\n      <td>UDIMAR FERREIRA</td>\n      <td>Autuado</td>\n      <td>Comum</td>\n      <td>09/03/2021</td>\n      <td>2022</td>\n      <td>0.00</td>\n    </tr>\n    <tr>\n      <th>1708</th>\n      <td>1709</td>\n      <td>1003878-98.2021.8.11.0000</td>\n      <td>Várzea Grande</td>\n      <td>LUCIANA RAMOS PEREIRA BARRETO</td>\n      <td>Autuado</td>\n      <td>Comum</td>\n      <td>09/03/2021</td>\n      <td>2022</td>\n      <td>0.00</td>\n    </tr>\n    <tr>\n      <th>1709</th>\n      <td>1710</td>\n      <td>1003880-68.2021.8.11.0000</td>\n      <td>Várzea Grande</td>\n      <td>JOSEFINA PONCE DE CAMPOS</td>\n      <td>Autuado</td>\n      <td>Comum</td>\n      <td>09/03/2021</td>\n      <td>2022</td>\n      <td>0.00</td>\n    </tr>\n    <tr>\n      <th>1710</th>\n      <td>1711</td>\n      <td>1003881-53.2021.8.11.0000</td>\n      <td>Várzea Grande</td>\n      <td>MARINALVA LEOCADIA DE CARVALHO</td>\n      <td>Autuado</td>\n      <td>Comum</td>\n      <td>09/03/2021</td>\n      <td>2022</td>\n      <td>0.00</td>\n    </tr>\n    <tr>\n      <th>1711</th>\n      <td>1712</td>\n      <td>1003882-38.2021.8.11.0000</td>\n      <td>Várzea Grande</td>\n      <td>JOSE ANTONIO DA COSTA</td>\n      <td>Autuado</td>\n      <td>Comum</td>\n      <td>09/03/2021</td>\n      <td>2022</td>\n      <td>0.00</td>\n    </tr>\n  </tbody>\n</table>\n<p>1712 rows × 9 columns</p>\n</div>"
     },
     "metadata": {},
     "execution_count": 5
    }
   ],
   "source": [
    "precsMT"
   ]
  },
  {
   "cell_type": "code",
   "execution_count": 6,
   "metadata": {},
   "outputs": [
    {
     "output_type": "stream",
     "name": "stdout",
     "text": [
      " Total (R$): 655,261,166.52\n Processos (Qtde): 1712 \n Potencial (R$): 512,572.8 (fator 60%)\n"
     ]
    }
   ],
   "source": [
    "print(\" Total (R$):\", f\"{precsMT.loc[:, 'valor'].sum().round(2):,}\\n\", \"Processos (Qtde):\",  len(precsMT), \"\\n Potencial (R$):\", f\"{(len(precsMT)*499*0.6):,} (fator 60%)\")"
   ]
  },
  {
   "cell_type": "code",
   "execution_count": 7,
   "metadata": {},
   "outputs": [],
   "source": [
    "precsFoco = precsMT.nlargest(20, 'valor')"
   ]
  },
  {
   "cell_type": "code",
   "execution_count": 8,
   "metadata": {},
   "outputs": [],
   "source": [
    "precsFoco['valor'] = 'R$ ' + (precsFoco['valor'].astype(float)/1000000).round(2).astype(str) + ' M'"
   ]
  },
  {
   "cell_type": "code",
   "execution_count": 9,
   "metadata": {},
   "outputs": [
    {
     "output_type": "execute_result",
     "data": {
      "text/plain": [
       "         n                  protocolo         cidade  \\\n",
       "369    370  0052461-05.2019.8.11.0000         Cuiabá   \n",
       "1368  1369  0023203-34.1988.8.11.0000  Várzea Grande   \n",
       "1503  1504  0053369-96.2018.8.11.0000  Várzea Grande   \n",
       "118    119  0084133-70.2015.8.11.0000         Cuiabá   \n",
       "1383  1384  0086437-42.2015.8.11.0000  Várzea Grande   \n",
       "270    271  0049563-53.2018.8.11.0000         Cuiabá   \n",
       "36      37  0034029-06.2017.8.11.0000        Cáceres   \n",
       "1346  1347  0034894-58.2019.8.11.0000   Rondonópolis   \n",
       "1345  1346  0016889-85.2019.8.11.0000   Rondonópolis   \n",
       "223    224  0104510-91.2017.8.11.0000         Cuiabá   \n",
       "271    272  0051529-51.2018.8.11.0000         Cuiabá   \n",
       "220    221  0104373-12.2017.8.11.0000         Cuiabá   \n",
       "210    211  0104239-82.2017.8.11.0000         Cuiabá   \n",
       "273    274  0051533-88.2018.8.11.0000         Cuiabá   \n",
       "147    148  0100761-03.2016.8.11.0000         Cuiabá   \n",
       "237    238  0083628-11.2017.8.11.0000         Cuiabá   \n",
       "272    273  0051530-36.2018.8.11.0000         Cuiabá   \n",
       "212    213  0104269-20.2017.8.11.0000         Cuiabá   \n",
       "215    216  0104316-91.2017.8.11.0000         Cuiabá   \n",
       "1489  1490  0053367-29.2018.8.11.0000  Várzea Grande   \n",
       "\n",
       "                                             requerente              situacao  \\\n",
       "369   MTU - ASSOCIAÇÃO MATOGROSSENSE DOS TRANSPORTES...  Aguardando Pagamento   \n",
       "1368                    ANTONIO OTÁVIO PEIXOTO e outros            Sobrestado   \n",
       "1503        AURIX ADMINISTRADORA DE BENS E VALORES LTDA  Aguardando Pagamento   \n",
       "118          THP - TRIUNFO HOLDING DE PARTICIPAÇÕES S/A     Pago parcialmente   \n",
       "1383                          J. A. J. CONSULTORIA LTDA  Aguardando Pagamento   \n",
       "270                             LOURIVAL NUNES DA SILVA  Aguardando Pagamento   \n",
       "36       CENTRAIS ELÉTRICAS MATOGROSSENSES S.A. - CEMAT  Aguardando Pagamento   \n",
       "1346                     EMILIA CREM DOS SANTOS SANCHES  Aguardando Pagamento   \n",
       "1345           KEMPII EMPREENDIMENTOS IMOBILIARIOS LTDA  Aguardando Pagamento   \n",
       "223                    ELIZIO ALEXANDRE ANTUNES PEREIRA  Aguardando Pagamento   \n",
       "271                               NELSON PEDRO DE BRITO  Aguardando Pagamento   \n",
       "220                            DULCINEIA FATIMA DE ROMA  Aguardando Pagamento   \n",
       "210                             ADEMIR EVARISTO NAZARIO  Aguardando Pagamento   \n",
       "273                           JOÃO PEDRO DE BRITO FILHO  Aguardando Pagamento   \n",
       "147                   ANGELA BENEDITA DE JESUS PINHEIRO  Aguardando Pagamento   \n",
       "237                   BETUNEL INDÚSTRIA E COMÉRCIO LTDA  Aguardando Pagamento   \n",
       "272                         ARNALDO HENRIQUE DE ALMEIDA  Aguardando Pagamento   \n",
       "212                         ALCEBIADES NUNES DE ALMEIDA  Aguardando Pagamento   \n",
       "215                      BENEDITO ALFREDO GRANJA FONTES  Aguardando Pagamento   \n",
       "1489                 RODOLFO CESAR VASCONCELLOS MOREIRA  Aguardando Pagamento   \n",
       "\n",
       "       natureza dataApresentacao  exercPagto        valor  \n",
       "369   Alimentar       13/08/2019        2021  R$ 141.08 M  \n",
       "1368      Comum       03/03/1988        1989   R$ 84.72 M  \n",
       "1503      Comum       12/06/2018        2019   R$ 55.12 M  \n",
       "118       Comum       26/06/2015        2016   R$ 43.47 M  \n",
       "1383      Comum       01/07/2015        2016   R$ 19.82 M  \n",
       "270   Alimentar       30/05/2018        2019   R$ 13.05 M  \n",
       "36        Comum       27/03/2017        2018   R$ 12.52 M  \n",
       "1346      Comum       28/05/2019        2020    R$ 11.8 M  \n",
       "1345      Comum       14/03/2019        2020    R$ 7.57 M  \n",
       "223   Alimentar       22/08/2017        2019    R$ 5.17 M  \n",
       "271   Alimentar       06/06/2018        2019    R$ 4.97 M  \n",
       "220   Alimentar       22/08/2017        2019    R$ 4.48 M  \n",
       "210   Alimentar       22/08/2017        2019    R$ 4.46 M  \n",
       "273   Alimentar       06/06/2018        2019    R$ 4.33 M  \n",
       "147       Comum       13/07/2016        2018    R$ 4.05 M  \n",
       "237       Comum       10/07/2017        2019    R$ 3.79 M  \n",
       "272   Alimentar       06/06/2018        2019    R$ 3.48 M  \n",
       "212   Alimentar       22/08/2017        2019    R$ 3.24 M  \n",
       "215   Alimentar       22/08/2017        2019    R$ 2.78 M  \n",
       "1489  Alimentar       12/06/2018        2019    R$ 2.76 M  "
      ],
      "text/html": "<div>\n<style scoped>\n    .dataframe tbody tr th:only-of-type {\n        vertical-align: middle;\n    }\n\n    .dataframe tbody tr th {\n        vertical-align: top;\n    }\n\n    .dataframe thead th {\n        text-align: right;\n    }\n</style>\n<table border=\"1\" class=\"dataframe\">\n  <thead>\n    <tr style=\"text-align: right;\">\n      <th></th>\n      <th>n</th>\n      <th>protocolo</th>\n      <th>cidade</th>\n      <th>requerente</th>\n      <th>situacao</th>\n      <th>natureza</th>\n      <th>dataApresentacao</th>\n      <th>exercPagto</th>\n      <th>valor</th>\n    </tr>\n  </thead>\n  <tbody>\n    <tr>\n      <th>369</th>\n      <td>370</td>\n      <td>0052461-05.2019.8.11.0000</td>\n      <td>Cuiabá</td>\n      <td>MTU - ASSOCIAÇÃO MATOGROSSENSE DOS TRANSPORTES...</td>\n      <td>Aguardando Pagamento</td>\n      <td>Alimentar</td>\n      <td>13/08/2019</td>\n      <td>2021</td>\n      <td>R$ 141.08 M</td>\n    </tr>\n    <tr>\n      <th>1368</th>\n      <td>1369</td>\n      <td>0023203-34.1988.8.11.0000</td>\n      <td>Várzea Grande</td>\n      <td>ANTONIO OTÁVIO PEIXOTO e outros</td>\n      <td>Sobrestado</td>\n      <td>Comum</td>\n      <td>03/03/1988</td>\n      <td>1989</td>\n      <td>R$ 84.72 M</td>\n    </tr>\n    <tr>\n      <th>1503</th>\n      <td>1504</td>\n      <td>0053369-96.2018.8.11.0000</td>\n      <td>Várzea Grande</td>\n      <td>AURIX ADMINISTRADORA DE BENS E VALORES LTDA</td>\n      <td>Aguardando Pagamento</td>\n      <td>Comum</td>\n      <td>12/06/2018</td>\n      <td>2019</td>\n      <td>R$ 55.12 M</td>\n    </tr>\n    <tr>\n      <th>118</th>\n      <td>119</td>\n      <td>0084133-70.2015.8.11.0000</td>\n      <td>Cuiabá</td>\n      <td>THP - TRIUNFO HOLDING DE PARTICIPAÇÕES S/A</td>\n      <td>Pago parcialmente</td>\n      <td>Comum</td>\n      <td>26/06/2015</td>\n      <td>2016</td>\n      <td>R$ 43.47 M</td>\n    </tr>\n    <tr>\n      <th>1383</th>\n      <td>1384</td>\n      <td>0086437-42.2015.8.11.0000</td>\n      <td>Várzea Grande</td>\n      <td>J. A. J. CONSULTORIA LTDA</td>\n      <td>Aguardando Pagamento</td>\n      <td>Comum</td>\n      <td>01/07/2015</td>\n      <td>2016</td>\n      <td>R$ 19.82 M</td>\n    </tr>\n    <tr>\n      <th>270</th>\n      <td>271</td>\n      <td>0049563-53.2018.8.11.0000</td>\n      <td>Cuiabá</td>\n      <td>LOURIVAL NUNES DA SILVA</td>\n      <td>Aguardando Pagamento</td>\n      <td>Alimentar</td>\n      <td>30/05/2018</td>\n      <td>2019</td>\n      <td>R$ 13.05 M</td>\n    </tr>\n    <tr>\n      <th>36</th>\n      <td>37</td>\n      <td>0034029-06.2017.8.11.0000</td>\n      <td>Cáceres</td>\n      <td>CENTRAIS ELÉTRICAS MATOGROSSENSES S.A. - CEMAT</td>\n      <td>Aguardando Pagamento</td>\n      <td>Comum</td>\n      <td>27/03/2017</td>\n      <td>2018</td>\n      <td>R$ 12.52 M</td>\n    </tr>\n    <tr>\n      <th>1346</th>\n      <td>1347</td>\n      <td>0034894-58.2019.8.11.0000</td>\n      <td>Rondonópolis</td>\n      <td>EMILIA CREM DOS SANTOS SANCHES</td>\n      <td>Aguardando Pagamento</td>\n      <td>Comum</td>\n      <td>28/05/2019</td>\n      <td>2020</td>\n      <td>R$ 11.8 M</td>\n    </tr>\n    <tr>\n      <th>1345</th>\n      <td>1346</td>\n      <td>0016889-85.2019.8.11.0000</td>\n      <td>Rondonópolis</td>\n      <td>KEMPII EMPREENDIMENTOS IMOBILIARIOS LTDA</td>\n      <td>Aguardando Pagamento</td>\n      <td>Comum</td>\n      <td>14/03/2019</td>\n      <td>2020</td>\n      <td>R$ 7.57 M</td>\n    </tr>\n    <tr>\n      <th>223</th>\n      <td>224</td>\n      <td>0104510-91.2017.8.11.0000</td>\n      <td>Cuiabá</td>\n      <td>ELIZIO ALEXANDRE ANTUNES PEREIRA</td>\n      <td>Aguardando Pagamento</td>\n      <td>Alimentar</td>\n      <td>22/08/2017</td>\n      <td>2019</td>\n      <td>R$ 5.17 M</td>\n    </tr>\n    <tr>\n      <th>271</th>\n      <td>272</td>\n      <td>0051529-51.2018.8.11.0000</td>\n      <td>Cuiabá</td>\n      <td>NELSON PEDRO DE BRITO</td>\n      <td>Aguardando Pagamento</td>\n      <td>Alimentar</td>\n      <td>06/06/2018</td>\n      <td>2019</td>\n      <td>R$ 4.97 M</td>\n    </tr>\n    <tr>\n      <th>220</th>\n      <td>221</td>\n      <td>0104373-12.2017.8.11.0000</td>\n      <td>Cuiabá</td>\n      <td>DULCINEIA FATIMA DE ROMA</td>\n      <td>Aguardando Pagamento</td>\n      <td>Alimentar</td>\n      <td>22/08/2017</td>\n      <td>2019</td>\n      <td>R$ 4.48 M</td>\n    </tr>\n    <tr>\n      <th>210</th>\n      <td>211</td>\n      <td>0104239-82.2017.8.11.0000</td>\n      <td>Cuiabá</td>\n      <td>ADEMIR EVARISTO NAZARIO</td>\n      <td>Aguardando Pagamento</td>\n      <td>Alimentar</td>\n      <td>22/08/2017</td>\n      <td>2019</td>\n      <td>R$ 4.46 M</td>\n    </tr>\n    <tr>\n      <th>273</th>\n      <td>274</td>\n      <td>0051533-88.2018.8.11.0000</td>\n      <td>Cuiabá</td>\n      <td>JOÃO PEDRO DE BRITO FILHO</td>\n      <td>Aguardando Pagamento</td>\n      <td>Alimentar</td>\n      <td>06/06/2018</td>\n      <td>2019</td>\n      <td>R$ 4.33 M</td>\n    </tr>\n    <tr>\n      <th>147</th>\n      <td>148</td>\n      <td>0100761-03.2016.8.11.0000</td>\n      <td>Cuiabá</td>\n      <td>ANGELA BENEDITA DE JESUS PINHEIRO</td>\n      <td>Aguardando Pagamento</td>\n      <td>Comum</td>\n      <td>13/07/2016</td>\n      <td>2018</td>\n      <td>R$ 4.05 M</td>\n    </tr>\n    <tr>\n      <th>237</th>\n      <td>238</td>\n      <td>0083628-11.2017.8.11.0000</td>\n      <td>Cuiabá</td>\n      <td>BETUNEL INDÚSTRIA E COMÉRCIO LTDA</td>\n      <td>Aguardando Pagamento</td>\n      <td>Comum</td>\n      <td>10/07/2017</td>\n      <td>2019</td>\n      <td>R$ 3.79 M</td>\n    </tr>\n    <tr>\n      <th>272</th>\n      <td>273</td>\n      <td>0051530-36.2018.8.11.0000</td>\n      <td>Cuiabá</td>\n      <td>ARNALDO HENRIQUE DE ALMEIDA</td>\n      <td>Aguardando Pagamento</td>\n      <td>Alimentar</td>\n      <td>06/06/2018</td>\n      <td>2019</td>\n      <td>R$ 3.48 M</td>\n    </tr>\n    <tr>\n      <th>212</th>\n      <td>213</td>\n      <td>0104269-20.2017.8.11.0000</td>\n      <td>Cuiabá</td>\n      <td>ALCEBIADES NUNES DE ALMEIDA</td>\n      <td>Aguardando Pagamento</td>\n      <td>Alimentar</td>\n      <td>22/08/2017</td>\n      <td>2019</td>\n      <td>R$ 3.24 M</td>\n    </tr>\n    <tr>\n      <th>215</th>\n      <td>216</td>\n      <td>0104316-91.2017.8.11.0000</td>\n      <td>Cuiabá</td>\n      <td>BENEDITO ALFREDO GRANJA FONTES</td>\n      <td>Aguardando Pagamento</td>\n      <td>Alimentar</td>\n      <td>22/08/2017</td>\n      <td>2019</td>\n      <td>R$ 2.78 M</td>\n    </tr>\n    <tr>\n      <th>1489</th>\n      <td>1490</td>\n      <td>0053367-29.2018.8.11.0000</td>\n      <td>Várzea Grande</td>\n      <td>RODOLFO CESAR VASCONCELLOS MOREIRA</td>\n      <td>Aguardando Pagamento</td>\n      <td>Alimentar</td>\n      <td>12/06/2018</td>\n      <td>2019</td>\n      <td>R$ 2.76 M</td>\n    </tr>\n  </tbody>\n</table>\n</div>"
     },
     "metadata": {},
     "execution_count": 9
    }
   ],
   "source": [
    "precsFoco"
   ]
  },
  {
   "cell_type": "code",
   "execution_count": 13,
   "metadata": {},
   "outputs": [],
   "source": [
    "writer = pd.ExcelWriter('focoSemana1.xlsx')"
   ]
  },
  {
   "cell_type": "code",
   "execution_count": 14,
   "metadata": {},
   "outputs": [],
   "source": [
    "precsFoco.to_excel(writer)\n",
    "writer.save()"
   ]
  },
  {
   "cell_type": "code",
   "execution_count": null,
   "metadata": {},
   "outputs": [],
   "source": []
  }
 ]
}